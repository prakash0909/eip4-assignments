{
  "nbformat": 4,
  "nbformat_minor": 0,
  "metadata": {
    "colab": {
      "name": "Prakash_Shanmugam_Assignment1A.ipynb",
      "provenance": [],
      "collapsed_sections": [],
      "include_colab_link": true
    },
    "kernelspec": {
      "name": "python3",
      "display_name": "Python 3"
    },
    "accelerator": "TPU"
  },
  "cells": [
    {
      "cell_type": "markdown",
      "metadata": {
        "id": "view-in-github",
        "colab_type": "text"
      },
      "source": [
        "<a href=\"https://colab.research.google.com/github/prakash0909/eip4-assignments/blob/master/Prakash_Shanmugam_Assignment1A.ipynb\" target=\"_parent\"><img src=\"https://colab.research.google.com/assets/colab-badge.svg\" alt=\"Open In Colab\"/></a>"
      ]
    },
    {
      "cell_type": "code",
      "metadata": {
        "id": "gBkTHZNDHTt1",
        "colab_type": "code",
        "colab": {}
      },
      "source": [
        "# https://keras.io/\n",
        "!pip install -q keras\n",
        "import keras"
      ],
      "execution_count": 0,
      "outputs": []
    },
    {
      "cell_type": "code",
      "metadata": {
        "id": "Phh8zmz-HgS1",
        "colab_type": "code",
        "colab": {}
      },
      "source": [
        "import numpy as np\n",
        "\n",
        "from keras.models import Sequential, Model\n",
        "from keras.layers import Activation, Flatten, Add, Input\n",
        "from keras.layers import Conv2D, MaxPooling2D, BatchNormalization\n",
        "from keras.utils import np_utils\n",
        "from keras.datasets import mnist"
      ],
      "execution_count": 0,
      "outputs": []
    },
    {
      "cell_type": "code",
      "metadata": {
        "id": "CyHriJ5FHoUo",
        "colab_type": "code",
        "colab": {}
      },
      "source": [
        "(X_train, y_train), (X_test, y_test) = mnist.load_data()"
      ],
      "execution_count": 0,
      "outputs": []
    },
    {
      "cell_type": "code",
      "metadata": {
        "id": "-9ltj0TrH-Os",
        "colab_type": "code",
        "colab": {
          "base_uri": "https://localhost:8080/",
          "height": 300
        },
        "outputId": "5de2a68d-c397-4a03-978b-1998bad177ea"
      },
      "source": [
        "print (X_train.shape)\n",
        "from matplotlib import pyplot as plt\n",
        "%matplotlib inline\n",
        "plt.imshow(X_train[0])"
      ],
      "execution_count": 38,
      "outputs": [
        {
          "output_type": "stream",
          "text": [
            "(60000, 28, 28)\n"
          ],
          "name": "stdout"
        },
        {
          "output_type": "execute_result",
          "data": {
            "text/plain": [
              "<matplotlib.image.AxesImage at 0x7f1438d40f98>"
            ]
          },
          "metadata": {
            "tags": []
          },
          "execution_count": 38
        },
        {
          "output_type": "display_data",
          "data": {
            "image/png": "[encoded data removed]",
            "text/plain": [
              "<Figure size 432x288 with 1 Axes>"
            ]
          },
          "metadata": {
            "tags": []
          }
        }
      ]
    },
    {
      "cell_type": "code",
      "metadata": {
        "id": "cXO2TEPeINHa",
        "colab_type": "code",
        "colab": {}
      },
      "source": [
        "X_train = X_train.reshape(X_train.shape[0], 28, 28,1)\n",
        "X_test = X_test.reshape(X_test.shape[0], 28, 28,1)"
      ],
      "execution_count": 0,
      "outputs": []
    },
    {
      "cell_type": "code",
      "metadata": {
        "id": "RYo9CCHnIRa_",
        "colab_type": "code",
        "colab": {}
      },
      "source": [
        "X_train = X_train.astype('float32')\n",
        "X_test = X_test.astype('float32')\n",
        "X_train /= 255\n",
        "X_test /= 255"
      ],
      "execution_count": 0,
      "outputs": []
    },
    {
      "cell_type": "code",
      "metadata": {
        "id": "HddyjRJaIWmG",
        "colab_type": "code",
        "colab": {
          "base_uri": "https://localhost:8080/",
          "height": 34
        },
        "outputId": "ddfed030-7541-478c-d072-3a8a40e3fb48"
      },
      "source": [
        "y_train[:10]"
      ],
      "execution_count": 41,
      "outputs": [
        {
          "output_type": "execute_result",
          "data": {
            "text/plain": [
              "array([5, 0, 4, 1, 9, 2, 1, 3, 1, 4], dtype=uint8)"
            ]
          },
          "metadata": {
            "tags": []
          },
          "execution_count": 41
        }
      ]
    },
    {
      "cell_type": "code",
      "metadata": {
        "id": "PmMygam0IcFJ",
        "colab_type": "code",
        "colab": {}
      },
      "source": [
        "# Convert 1-dimensional class arrays to 10-dimensional class matrices\n",
        "Y_train = np_utils.to_categorical(y_train, 10)\n",
        "Y_test = np_utils.to_categorical(y_test, 10)"
      ],
      "execution_count": 0,
      "outputs": []
    },
    {
      "cell_type": "code",
      "metadata": {
        "id": "60bqzhydIgB2",
        "colab_type": "code",
        "colab": {
          "base_uri": "https://localhost:8080/",
          "height": 193
        },
        "outputId": "7b083c51-b8fc-4da4-b605-1c97a6ba7a00"
      },
      "source": [
        "Y_train[:10]"
      ],
      "execution_count": 43,
      "outputs": [
        {
          "output_type": "execute_result",
          "data": {
            "text/plain": [
              "array([[0., 0., 0., 0., 0., 1., 0., 0., 0., 0.],\n",
              "       [1., 0., 0., 0., 0., 0., 0., 0., 0., 0.],\n",
              "       [0., 0., 0., 0., 1., 0., 0., 0., 0., 0.],\n",
              "       [0., 1., 0., 0., 0., 0., 0., 0., 0., 0.],\n",
              "       [0., 0., 0., 0., 0., 0., 0., 0., 0., 1.],\n",
              "       [0., 0., 1., 0., 0., 0., 0., 0., 0., 0.],\n",
              "       [0., 1., 0., 0., 0., 0., 0., 0., 0., 0.],\n",
              "       [0., 0., 0., 1., 0., 0., 0., 0., 0., 0.],\n",
              "       [0., 1., 0., 0., 0., 0., 0., 0., 0., 0.],\n",
              "       [0., 0., 0., 0., 1., 0., 0., 0., 0., 0.]], dtype=float32)"
            ]
          },
          "metadata": {
            "tags": []
          },
          "execution_count": 43
        }
      ]
    },
    {
      "cell_type": "code",
      "metadata": {
        "id": "D1vwvQbSImse",
        "colab_type": "code",
        "colab": {}
      },
      "source": [
        "# Trying to optimize the network by using BatchNormalization and Label Smoothing techniques under 18,000 parameters\n",
        "\n",
        "\n",
        "model = Sequential()\n",
        "\n",
        "input = Input(shape=(28, 28, 1,))\n",
        "\n",
        "# Layer 1\n",
        "layer_1 = Conv2D(28, (3,3), strides=(1,1), padding='valid', name='conv_1', use_bias=False)(input)\n",
        "layer_1 = BatchNormalization(name='norm_1')(layer_1)\n",
        "layer_1 = keras.layers.ReLU(max_value=None, negative_slope=0.0, threshold=0.0)(layer_1)\n",
        "# Layer 2\n",
        "layer_2 = Conv2D(32, (3,3), strides=(1,1), padding='valid', name='conv_2', use_bias=False)(layer_1)\n",
        "layer_2 = BatchNormalization(name='norm_2')(layer_2)\n",
        "layer_2 = keras.layers.ReLU(max_value=None, negative_slope=0.0, threshold=0.0)(layer_2)\n",
        "# Layer 3\n",
        "layer_3 = Conv2D(16, (3,3), strides=(1,1), padding='valid', name='conv_3', use_bias=False)(layer_2)\n",
        "layer_3 = BatchNormalization(name='norm_3')(layer_3)\n",
        "layer_3 = keras.layers.ReLU(max_value=None, negative_slope=0.0, threshold=0.0)(layer_3)\n",
        "# Layer 4\n",
        "layer_4 = Conv2D(10, (3,3), strides=(1,1), padding='valid', name='conv_4', use_bias=False)(layer_3)\n",
        "layer_4 = BatchNormalization(name='norm_4')(layer_4)\n",
        "layer_4 = keras.layers.ReLU(max_value=None, negative_slope=0.0, threshold=0.0)(layer_4)\n",
        "# Layer 5\n",
        "layer_5 = Conv2D(10, (1,1), strides=(1,1), padding='valid', name='conv_5', use_bias=False)(layer_4)\n",
        "layer_5 = BatchNormalization(name='norm_5')(layer_5)\n",
        "layer_5 = keras.layers.ReLU(max_value=None, negative_slope=0.0, threshold=0.0)(layer_5)\n",
        "layer_5 = MaxPooling2D(pool_size=(2, 2))(layer_5)\n",
        "# Layer 6\n",
        "layer_6 = Conv2D(10, (3,3), strides=(1,1), padding='valid', name='conv_6', use_bias=False)(layer_5)\n",
        "layer_6 = BatchNormalization(name='norm_6')(layer_6)\n",
        "layer_6 = keras.layers.ReLU(max_value=None, negative_slope=0.0, threshold=0.0)(layer_6)\n",
        "# Layer 7\n",
        "layer_7 = Conv2D(10, (3,3), strides=(1,1), padding='valid', name='conv_7', use_bias=False)(layer_6)\n",
        "layer_7 = BatchNormalization(name='norm_7')(layer_7)\n",
        "layer_7 = keras.layers.ReLU(max_value=None, negative_slope=0.0, threshold=0.0)(layer_7)\n",
        "\n",
        "\n",
        "layer_7 = MaxPooling2D(pool_size=(2, 2))(layer_7)\n",
        "# Layer 8\n",
        "layer_8 = Conv2D(10, (3,3), strides=(1,1), padding='valid', name='conv_8', use_bias=False)(layer_7)\n",
        "# Flatten\n",
        "flatten_output = Flatten()(layer_8)\n",
        "# Output\n",
        "output = Activation('softmax')(flatten_output)\n",
        "\n",
        "model = Model(inputs=[input], outputs=[output])"
      ],
      "execution_count": 0,
      "outputs": []
    },
    {
      "cell_type": "code",
      "metadata": {
        "id": "Wqd9AUqYIuuz",
        "colab_type": "code",
        "colab": {
          "base_uri": "https://localhost:8080/",
          "height": 1000
        },
        "outputId": "c69f6017-1dc0-43de-e816-2ea4b69b14d9"
      },
      "source": [
        "model.summary()"
      ],
      "execution_count": 45,
      "outputs": [
        {
          "output_type": "stream",
          "text": [
            "Model: \"model_2\"\n",
            "_________________________________________________________________\n",
            "Layer (type)                 Output Shape              Param #   \n",
            "=================================================================\n",
            "input_2 (InputLayer)         (None, 28, 28, 1)         0         \n",
            "_________________________________________________________________\n",
            "conv_1 (Conv2D)              (None, 26, 26, 28)        252       \n",
            "_________________________________________________________________\n",
            "norm_1 (BatchNormalization)  (None, 26, 26, 28)        112       \n",
            "_________________________________________________________________\n",
            "re_lu_8 (ReLU)               (None, 26, 26, 28)        0         \n",
            "_________________________________________________________________\n",
            "conv_2 (Conv2D)              (None, 24, 24, 32)        8064      \n",
            "_________________________________________________________________\n",
            "norm_2 (BatchNormalization)  (None, 24, 24, 32)        128       \n",
            "_________________________________________________________________\n",
            "re_lu_9 (ReLU)               (None, 24, 24, 32)        0         \n",
            "_________________________________________________________________\n",
            "conv_3 (Conv2D)              (None, 22, 22, 16)        4608      \n",
            "_________________________________________________________________\n",
            "norm_3 (BatchNormalization)  (None, 22, 22, 16)        64        \n",
            "_________________________________________________________________\n",
            "re_lu_10 (ReLU)              (None, 22, 22, 16)        0         \n",
            "_________________________________________________________________\n",
            "conv_4 (Conv2D)              (None, 20, 20, 10)        1440      \n",
            "_________________________________________________________________\n",
            "norm_4 (BatchNormalization)  (None, 20, 20, 10)        40        \n",
            "_________________________________________________________________\n",
            "re_lu_11 (ReLU)              (None, 20, 20, 10)        0         \n",
            "_________________________________________________________________\n",
            "conv_5 (Conv2D)              (None, 20, 20, 10)        100       \n",
            "_________________________________________________________________\n",
            "norm_5 (BatchNormalization)  (None, 20, 20, 10)        40        \n",
            "_________________________________________________________________\n",
            "re_lu_12 (ReLU)              (None, 20, 20, 10)        0         \n",
            "_________________________________________________________________\n",
            "max_pooling2d_3 (MaxPooling2 (None, 10, 10, 10)        0         \n",
            "_________________________________________________________________\n",
            "conv_6 (Conv2D)              (None, 8, 8, 10)          900       \n",
            "_________________________________________________________________\n",
            "norm_6 (BatchNormalization)  (None, 8, 8, 10)          40        \n",
            "_________________________________________________________________\n",
            "re_lu_13 (ReLU)              (None, 8, 8, 10)          0         \n",
            "_________________________________________________________________\n",
            "conv_7 (Conv2D)              (None, 6, 6, 10)          900       \n",
            "_________________________________________________________________\n",
            "norm_7 (BatchNormalization)  (None, 6, 6, 10)          40        \n",
            "_________________________________________________________________\n",
            "re_lu_14 (ReLU)              (None, 6, 6, 10)          0         \n",
            "_________________________________________________________________\n",
            "max_pooling2d_4 (MaxPooling2 (None, 3, 3, 10)          0         \n",
            "_________________________________________________________________\n",
            "conv_8 (Conv2D)              (None, 1, 1, 10)          900       \n",
            "_________________________________________________________________\n",
            "flatten_4 (Flatten)          (None, 10)                0         \n",
            "_________________________________________________________________\n",
            "activation_4 (Activation)    (None, 10)                0         \n",
            "=================================================================\n",
            "Total params: 17,628\n",
            "Trainable params: 17,396\n",
            "Non-trainable params: 232\n",
            "_________________________________________________________________\n"
          ],
          "name": "stdout"
        }
      ]
    },
    {
      "cell_type": "code",
      "metadata": {
        "id": "Q0-OKEUCI1ni",
        "colab_type": "code",
        "colab": {}
      },
      "source": [
        "model.compile(loss='categorical_crossentropy',\n",
        "             optimizer='adam',\n",
        "             metrics=['accuracy'])"
      ],
      "execution_count": 0,
      "outputs": []
    },
    {
      "cell_type": "code",
      "metadata": {
        "id": "hAUonrbqI6lW",
        "colab_type": "code",
        "colab": {
          "base_uri": "https://localhost:8080/",
          "height": 422
        },
        "outputId": "a9917304-6e9c-431a-907e-745f090b2833"
      },
      "source": [
        "model.fit(X_train, Y_train, batch_size=32, nb_epoch=10, verbose=1)"
      ],
      "execution_count": 47,
      "outputs": [
        {
          "output_type": "stream",
          "text": [
            "/usr/local/lib/python3.6/dist-packages/ipykernel_launcher.py:1: UserWarning: The `nb_epoch` argument in `fit` has been renamed `epochs`.\n",
            "  \"\"\"Entry point for launching an IPython kernel.\n"
          ],
          "name": "stderr"
        },
        {
          "output_type": "stream",
          "text": [
            "Epoch 1/10\n",
            "60000/60000 [==============================] - 262s 4ms/step - loss: 0.2368 - acc: 0.9364\n",
            "Epoch 2/10\n",
            "60000/60000 [==============================] - 261s 4ms/step - loss: 0.0664 - acc: 0.9798\n",
            "Epoch 3/10\n",
            "60000/60000 [==============================] - 261s 4ms/step - loss: 0.0509 - acc: 0.9842\n",
            "Epoch 4/10\n",
            "60000/60000 [==============================] - 260s 4ms/step - loss: 0.0423 - acc: 0.9866\n",
            "Epoch 5/10\n",
            "60000/60000 [==============================] - 259s 4ms/step - loss: 0.0373 - acc: 0.9883\n",
            "Epoch 6/10\n",
            "60000/60000 [==============================] - 264s 4ms/step - loss: 0.0324 - acc: 0.9900\n",
            "Epoch 7/10\n",
            "60000/60000 [==============================] - 262s 4ms/step - loss: 0.0306 - acc: 0.9900\n",
            "Epoch 8/10\n",
            "60000/60000 [==============================] - 263s 4ms/step - loss: 0.0288 - acc: 0.9908\n",
            "Epoch 9/10\n",
            "60000/60000 [==============================] - 263s 4ms/step - loss: 0.0258 - acc: 0.9915\n",
            "Epoch 10/10\n",
            "60000/60000 [==============================] - 266s 4ms/step - loss: 0.0241 - acc: 0.9922\n"
          ],
          "name": "stdout"
        },
        {
          "output_type": "execute_result",
          "data": {
            "text/plain": [
              "<keras.callbacks.History at 0x7f1438c874e0>"
            ]
          },
          "metadata": {
            "tags": []
          },
          "execution_count": 47
        }
      ]
    },
    {
      "cell_type": "code",
      "metadata": {
        "id": "KoCxK-3k11QU",
        "colab_type": "code",
        "colab": {}
      },
      "source": [
        "score = model.evaluate(X_test, Y_test, verbose=0)"
      ],
      "execution_count": 0,
      "outputs": []
    },
    {
      "cell_type": "code",
      "metadata": {
        "id": "sM5Pmaew19nN",
        "colab_type": "code",
        "colab": {
          "base_uri": "https://localhost:8080/",
          "height": 34
        },
        "outputId": "51c1f970-1970-4c87-bc62-ac83be860b55"
      },
      "source": [
        "print(score)"
      ],
      "execution_count": 49,
      "outputs": [
        {
          "output_type": "stream",
          "text": [
            "[0.02802405803632282, 0.9903]\n"
          ],
          "name": "stdout"
        }
      ]
    }
  ]
}